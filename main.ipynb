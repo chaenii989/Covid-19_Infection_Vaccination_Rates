{
 "cells": [
  {
   "cell_type": "code",
   "execution_count": null,
   "metadata": {
    "colab": {
     "base_uri": "https://localhost:8080/"
    },
    "id": "m702T6Ul8gwQ",
    "outputId": "9731f77b-2821-41f9-b79f-82ebbb6c6528"
   },
   "outputs": [],
   "source": [
    "#Dependencies\n",
    "import numpy as np\n",
    "import pandas as pd\n",
    "import json\n",
    "import requests\n",
    "import psycopg2\n",
    "from pprint import pprint\n",
    "from pandas_profiling import ProfileReport\n",
    "from sqlalchemy import create_engine\n",
    "from sqlalchemy.orm import Session\n",
    "from config import api_key, username, password, host, port, database"
   ]
  },
  {
   "cell_type": "code",
   "execution_count": null,
   "metadata": {
    "id": "JP0GEB_f8gwT"
   },
   "outputs": [],
   "source": [
    "# Covid Act Now API\n",
    "url = \"https://api.covidactnow.org/v2/county/MI.json?\"\n",
    "api_key = \"00dd1d2ca97347d89cdef129eca90057\"\n",
    "\n",
    "# Build query URL\n",
    "query_url = f\"{url}apiKey={api_key}\""
   ]
  },
  {
   "cell_type": "code",
   "execution_count": null,
   "metadata": {
    "id": "oOqSusm58gwT",
    "outputId": "e21bcb11-e4ad-46b8-8cde-89287861fb4b"
   },
   "outputs": [],
   "source": [
    "# Current data for all county in MI state\n",
    "covid_19_data = requests.get(query_url).json()\n",
    "\n",
    "pprint(covid_19_data[0])"
   ]
  },
  {
   "cell_type": "code",
   "execution_count": null,
   "metadata": {
    "id": "vSXFnogV8gwU"
   },
   "outputs": [],
   "source": [
    "# Iterate API\n",
    "states_list = []\n",
    "fips_list = []\n",
    "county_list = []\n",
    "populations = []\n",
    "cases = []\n",
    "vaccinations_Completed = []\n",
    "vaccinations_Initiated = []\n",
    "vaccinations_Administered = []\n",
    "\n",
    "for x in covid_19_data:\n",
    "    states_list.append(x['state'])  \n",
    "    fips_list.append(x['fips'])  \n",
    "    county_list.append(x['county']) \n",
    "    populations.append(x['population'])  \n",
    "    cases.append(x['actuals']['cases'])\n",
    "    vaccinations_Completed.append(x['actuals']['vaccinationsCompleted'])\n",
    "    vaccinations_Initiated.append(x['actuals']['vaccinationsInitiated']) \n",
    "    vaccinations_Administered.append(x['actuals']['vaccinesAdministered'])"
   ]
  },
  {
   "cell_type": "code",
   "execution_count": null,
   "metadata": {
    "id": "5sLkuRaC8gwU",
    "outputId": "a11b0108-b841-4dbf-fc32-8a97d01ba33c",
    "scrolled": true
   },
   "outputs": [],
   "source": [
    "# Create dataframe\n",
    "vaccination_df = pd.DataFrame({\n",
    "    \"State\": states_list,\n",
    "    \"Fips\" : fips_list,\n",
    "    \"County\" : county_list,\n",
    "    \"Population\": populations,\n",
    "    \"Total Current Cases\" : cases,\n",
    "    \"Vaccination Completed\" : vaccinations_Completed,\n",
    "    \"Vaccination Initiated\" : vaccinations_Initiated,\n",
    "    \"Vaccination Administered\" : vaccinations_Administered\n",
    "})\n",
    "vaccination_df.head()"
   ]
  },
  {
   "cell_type": "code",
   "execution_count": null,
   "metadata": {
    "id": "4hDO57sx8gwV"
   },
   "outputs": [],
   "source": [
    "# Split Strig\n",
    "vaccination_df['County'] = vaccination_df['County'].str.split(pat=\" County\", n=-1, expand=True)\n",
    "\n",
    "vaccination_df"
   ]
  },
  {
   "cell_type": "code",
   "execution_count": null,
   "metadata": {
    "id": "00PkY6OI8gwW",
    "outputId": "066063de-1dd0-476d-ac11-8085d79065c7"
   },
   "outputs": [],
   "source": [
    "# Using .apply() fuction to get vaccinate completion rate\n",
    "vaccination_df[\"Percent Completed\"] = vaccination_df.apply(\n",
    "    lambda x: x['Vaccination Completed']/x['Population'], axis =1) \n",
    "\n",
    "# Change formattingPo\n",
    "format_dict = {'Percent Completed': '{:.1%}'}\n",
    "vaccination_df.head().style.format(format_dict)"
   ]
  },
  {
   "cell_type": "code",
   "execution_count": null,
   "metadata": {
    "id": "NhJJv1IT8gwW",
    "outputId": "058fda67-5f06-447a-e89e-0acaab36d5f2"
   },
   "outputs": [],
   "source": [
    "# Using .aggregate()\n",
    "vaccination_MI = vaccination_df.groupby('State', as_index=True).agg({'Percent Completed': ['min', 'max']})\n",
    "vaccination_MI"
   ]
  },
  {
   "cell_type": "code",
   "execution_count": null,
   "metadata": {
    "id": "LgX_MQLb8gwX",
    "outputId": "eaa9c463-d5fe-4c48-a02d-8f0548e28356"
   },
   "outputs": [],
   "source": [
    "# Max/min county\n",
    "vaccination_df.sort_values(by=['Percent Completed'], ascending=False).style.format(format_dict)"
   ]
  },
  {
   "cell_type": "code",
   "execution_count": null,
   "metadata": {
    "colab": {
     "referenced_widgets": [
      "7fab26ecb78544f8a951ee6062955923",
      "22e20069b0234faa88cf4ca640415e1a",
      "0eb34800e6384b2ab0f987442cbbc817"
     ]
    },
    "id": "lLG-XtF58gwX",
    "outputId": "f495f64f-ab52-4661-9090-3d9a2a1445da"
   },
   "outputs": [],
   "source": [
    "# Pandas profile of MI covid data\n",
    "mi_covid_data = vaccination_df.profile_report()\n",
    "mi_covid_data"
   ]
  },
  {
   "cell_type": "code",
   "execution_count": null,
   "metadata": {
    "id": "eY7tf-fm8gwf",
    "outputId": "4ed13a88-5d26-4c88-8308-7c6b4063b2d8"
   },
   "outputs": [],
   "source": [
    "# Fatalities\n",
    "fips_list_1 = []\n",
    "deaths = []\n",
    "infection_rate = []\n",
    "\n",
    "\n",
    "\n",
    "for x in covid_19_data:\n",
    "    fips_list_1.append(x['fips'])   \n",
    "    deaths.append(x['actuals']['deaths'])\n",
    "    infection_rate.append(x['metrics']['infectionRate'])\n",
    "    \n",
    "    \n",
    "    \n",
    "    \n",
    "death_infection = pd.DataFrame({\n",
    "\n",
    "    \"Fips\" : fips_list_1,\n",
    "    \"Deaths\" : deaths,\n",
    "    \"Infection Rate\": infection_rate\n",
    "      \n",
    "})\n",
    "\n",
    "\n",
    "\n",
    "\n",
    "death_infection.head()"
   ]
  },
  {
   "cell_type": "code",
   "execution_count": null,
   "metadata": {
    "id": "MjdA2sG88gwg",
    "outputId": "4e08a387-5f68-4360-9e7d-b29b9751e42c"
   },
   "outputs": [],
   "source": [
    "# Positive-Test Ratio\n",
    "fips_list_2 = []\n",
    "test_postive_ratio  =[]\n",
    "case_density =[]\n",
    "\n",
    "for x in covid_19_data:\n",
    "    fips_list_2.append(x['fips'])   \n",
    "    test_postive_ratio.append(x['metrics']['testPositivityRatio'])\n",
    "    case_density.append(x['metrics']['caseDensity'])\n",
    "    \n",
    "test_case_ratios = pd.DataFrame({\n",
    "\n",
    "    \"Fips\" : fips_list_2,\n",
    "    \"Test Positive Ratio\": test_postive_ratio,\n",
    "    \"Case Density\": case_density\n",
    "    \n",
    "})\n",
    "\n",
    "\n",
    "    \n",
    "test_case_ratios.head()\n"
   ]
  },
  {
   "cell_type": "code",
   "execution_count": null,
   "metadata": {
    "id": "-4e1n2mj8gwh"
   },
   "outputs": [],
   "source": [
    "# Johns Hopkins CSV\n",
    "covid_df=pd.read_csv(r'https://raw.githubusercontent.com/CSSEGISandData/COVID-19/master/csse_covid_19_data/csse_covid_19_time_series/time_series_covid19_confirmed_US.csv')"
   ]
  },
  {
   "cell_type": "code",
   "execution_count": null,
   "metadata": {
    "id": "ZS5-uYFY8gwi",
    "outputId": "c1e4db4f-389a-4816-dd70-18b8ebb0f2c3"
   },
   "outputs": [],
   "source": [
    "# MI data\n",
    "original_mi_covid_df = covid_df.loc[covid_df['Province_State']=='Michigan']\n",
    "original_mi_covid_df"
   ]
  },
  {
   "cell_type": "code",
   "execution_count": null,
   "metadata": {
    "id": "adG8lta78gwj",
    "outputId": "865122d8-eac9-4138-8540-bc6042df7c9b"
   },
   "outputs": [],
   "source": [
    "#Drop columns\n",
    "mi_covid_df = original_mi_covid_df.drop(original_mi_covid_df.iloc[:,:4], axis=1)\n",
    "mi_covid_df = mi_covid_df.drop(labels= ['Country_Region','Lat','Long_','Combined_Key'], axis=1)\n",
    "\n",
    "# Rename columns\n",
    "mi_covid_df = mi_covid_df.rename(columns={'Admin2': 'County', 'Province_State':'State'})\n",
    "\n",
    "# Reset index\n",
    "mi_covid_df = mi_covid_df.reset_index(drop=True)\n",
    "\n",
    "mi_covid_df"
   ]
  },
  {
   "cell_type": "code",
   "execution_count": null,
   "metadata": {
    "id": "Dt7ReI1m8gwm"
   },
   "outputs": [],
   "source": [
    "# Cases by date for MI\n",
    "mi_date_df = mi_covid_df.groupby('State').sum()\n",
    "mi_date_df = mi_date_df.drop(labels=['FIPS'], axis=1)\n",
    "mi_date_df = mi_date_df.transpose()\n",
    "mi_date_df = mi_date_df.rename_axis(None, axis=1)\n",
    "mi_date_df = mi_date_df.reset_index(drop=False)\n",
    "mi_date_df = mi_date_df.rename(columns={'Michigan':'Cases','index':'Date'})\n",
    "\n",
    "mi_date_df"
   ]
  },
  {
   "cell_type": "code",
   "execution_count": null,
   "metadata": {},
   "outputs": [],
   "source": [
    "# Aggregate cases per county\n",
    "county_cases_df = mi_covid_df.drop(labels=['State'], axis=1)\n",
    "county_cases_df = county_cases_df.groupby(['FIPS','County']).sum()\n",
    "county_cases_df = county_cases_df.agg(['sum','mean','max'], axis=1)\n",
    "county_cases_df = county_cases_df.reset_index()\n",
    "county_cases_df = county_cases_df.rename(columns={'level_0':'FIPS','level_1':'County','sum':'Total Cases','mean':'Daily Average Cases','max':'Highest Single-Day Cases'})\n",
    "\n",
    "county_cases_df"
   ]
  },
  {
   "cell_type": "code",
   "execution_count": null,
   "metadata": {
    "id": "IPgWtdKf8gwm",
    "outputId": "d97ec9d1-757c-4c4e-d8bf-10b579c20dbf"
   },
   "outputs": [],
   "source": [
    "# Creates new DF with just county and dates\n",
    "prep_unpivot_df = mi_covid_df.drop(labels=['FIPS','State'], axis=1)\n",
    "prep_unpivot_df.head()"
   ]
  },
  {
   "cell_type": "code",
   "execution_count": null,
   "metadata": {
    "id": "nyxOUTWZ8gwn",
    "outputId": "0848802e-f24e-4880-902b-039635ee2734"
   },
   "outputs": [],
   "source": [
    "# TRANSFORMATION 1 - uses pd.melt - unpivots to transpose date columns to rows by county\n",
    "\n",
    "# TABLE cases_by_date_table\n",
    "df_unpivoted = prep_unpivot_df.melt(id_vars=['County'], var_name='Date', value_name='Cases')\n",
    "df_unpivoted"
   ]
  },
  {
   "cell_type": "code",
   "execution_count": null,
   "metadata": {
    "id": "58puNLWJ8gwn",
    "outputId": "8b41241f-ddf6-453e-cb89-d94cbecd1c0b"
   },
   "outputs": [],
   "source": [
    "# wayne_top_df\n",
    "\n",
    "'''TRANSFORMATION 2 - uses df.nlargest, df.loc, df.diff - identifies which county has the most daily cases then dive deeper and find the \n",
    "largest changes from one day to the next'''\n",
    "# Displays county, dates, and cases with largest case counts\n",
    "top_df = df_unpivoted.nlargest(50, 'Cases', keep='first')\n",
    "#top_df\n",
    "# Confirmed - it was Wayne county\n",
    "# Now dive deeper - top 10 largest instances of daily change from one day to the next \n",
    "wayne_df = df_unpivoted.loc[df_unpivoted['County']=='Wayne']\n",
    "wayne_df = wayne_df.set_index('County')\n",
    "wayne_df['Daily Change in Cases'] = wayne_df['Cases'].diff()\n",
    "wayne_top_df = wayne_df.nlargest(10, 'Daily Change in Cases', keep='first')\n",
    "wayne_top_df['Percent Change'] = wayne_top_df['Cases'].pct_change().astype(float).map(\"{:.2%}\".format)\n",
    "wayne_top_df['Percent Change'].replace({\"nan%\": 0},inplace=True)\n",
    "\n",
    "wayne_top_df"
   ]
  },
  {
   "cell_type": "code",
   "execution_count": null,
   "metadata": {
    "colab": {
     "referenced_widgets": [
      "1251227ad85b4f50895bbff38743b2ea"
     ]
    },
    "id": "QyQ7JQ6a8gwp",
    "outputId": "50194935-2260-4921-aacb-5e255103361c"
   },
   "outputs": [],
   "source": [
    "# Pandas profile \n",
    "mi_covid_profile = df_unpivoted.profile_report()\n",
    "mi_covid_profile"
   ]
  },
  {
   "cell_type": "code",
   "execution_count": null,
   "metadata": {
    "id": "cA9eZjXK8gwq",
    "outputId": "4b3a9d2f-6a5d-4839-928b-73c76af6251f"
   },
   "outputs": [],
   "source": [
    "# cases_by_month_table\n",
    "\n",
    "# TRANSFORMATION 5 - converts date to month, then evaluates cases by month overall per county\n",
    "# Check out column data types \n",
    "# df_unpivoted.info()\n",
    "# Split date by \"/\" delimiter\n",
    "#split = df_unpivoted['Date'].str.split(\"/\", n=2, expand=True)\n",
    "\n",
    "df_unpivoted[['Month','Day','Year']] = df_unpivoted['Date'].str.split(\"/\", expand = True)\n",
    "\n",
    "df_unpivoted = df_unpivoted.loc[df_unpivoted['Month']=='4']\n",
    "df_unpivoted\n",
    "\n",
    "month_dict = {\n",
    "    '4': 'April'   \n",
    "}\n",
    "\n",
    "for index,row in df_unpivoted.iterrows():\n",
    "        df_1 = df_unpivoted.replace({\"Month\": month_dict})\n",
    "april_df = df_1\n",
    "\n",
    "april_df"
   ]
  },
  {
   "cell_type": "code",
   "execution_count": null,
   "metadata": {
    "id": "vddcx3628gwr",
    "outputId": "6df79b65-af24-4adb-cfda-95641005cf95"
   },
   "outputs": [],
   "source": [
    "# april_2020_and_2021_table\n",
    "\n",
    "df_1[\"Month_Year\"] = df_1[\"Month\"] + \" 20\" + df_1[\"Year\"]\n",
    "df_1\n",
    "new_df = df_1.sort_values('County')\n",
    "new_df\n",
    "\n",
    "new_df = new_df.drop(labels= ['Date','Month','Day','Year'], axis=1)\n",
    "new_df = new_df.groupby(['County', \"Month_Year\"]).sum()[\"Cases\"]\n",
    "new_df = new_df.reset_index()\n",
    "new_df = new_df[new_df[\"Month_Year\"]== \"April 2021\"]\n",
    "year_comparison_df = new_df\n",
    "\n",
    "year_comparison_df"
   ]
  },
  {
   "cell_type": "code",
   "execution_count": null,
   "metadata": {},
   "outputs": [],
   "source": [
    "username = 'postgres'\n",
    "password = '****'\n",
    "host = 'localhost'\n",
    "port = '5432'\n",
    "database = 'etl_project'"
   ]
  },
  {
   "cell_type": "code",
   "execution_count": null,
   "metadata": {
    "id": "n5jTR5098gws"
   },
   "outputs": [],
   "source": [
    "# Connect to postresql\n",
    "engine = create_engine(f'postgresql+psycopg2://{username}:{password}@{host}:{port}/{database}')\n",
    "session = Session(engine)"
   ]
  },
  {
   "cell_type": "code",
   "execution_count": null,
   "metadata": {
    "id": "bCrK4pRD8gws",
    "outputId": "0542b85d-98fe-4b53-9b4d-edfcedbba959"
   },
   "outputs": [],
   "source": [
    "engine.table_names()"
   ]
  },
  {
   "cell_type": "code",
   "execution_count": null,
   "metadata": {
    "id": "DfJHSEs_8gws",
    "outputId": "4a7f9563-bb32-4d4a-cb08-9ae662e83b57"
   },
   "outputs": [],
   "source": [
    "# Create tables\n",
    "vaccination_df.to_sql(name='vaccination', con=engine, if_exists='replace', index=False)"
   ]
  },
  {
   "cell_type": "code",
   "execution_count": null,
   "metadata": {},
   "outputs": [],
   "source": [
    "pd.read_sql_query('select * from vaccination', con=engine).head()"
   ]
  },
  {
   "cell_type": "code",
   "execution_count": null,
   "metadata": {},
   "outputs": [],
   "source": [
    "death_infection.to_sql(name='death_infections', con=engine, if_exists='replace', index=False)"
   ]
  },
  {
   "cell_type": "code",
   "execution_count": null,
   "metadata": {},
   "outputs": [],
   "source": [
    "pd.read_sql_query('select * from death_infections', con=engine).head()"
   ]
  },
  {
   "cell_type": "code",
   "execution_count": null,
   "metadata": {},
   "outputs": [],
   "source": [
    "test_case_ratios.to_sql(name='test_case_ratios', con=engine, if_exists='replace', index=False)"
   ]
  },
  {
   "cell_type": "code",
   "execution_count": null,
   "metadata": {},
   "outputs": [],
   "source": [
    "pd.read_sql_query('select * from test_case_ratios', con=engine).head()"
   ]
  },
  {
   "cell_type": "code",
   "execution_count": null,
   "metadata": {},
   "outputs": [],
   "source": [
    "year_comparison_df.to_sql(name='april_2020_2021', con=engine, if_exists='replace', index=False)"
   ]
  },
  {
   "cell_type": "code",
   "execution_count": null,
   "metadata": {},
   "outputs": [],
   "source": [
    "pd.read_sql_query('select * from april_2020_2021', con=engine).head()"
   ]
  },
  {
   "cell_type": "code",
   "execution_count": null,
   "metadata": {},
   "outputs": [],
   "source": [
    "county_cases_df.to_sql(name='Cases by County', con=engine, if_exists='replace', index=False)"
   ]
  },
  {
   "cell_type": "code",
   "execution_count": null,
   "metadata": {},
   "outputs": [],
   "source": [
    "pd.read_sql_query('select * from \"Cases by County\"', con=engine)"
   ]
  },
  {
   "cell_type": "code",
   "execution_count": null,
   "metadata": {},
   "outputs": [],
   "source": [
    "engine.table_names()"
   ]
  },
  {
   "cell_type": "code",
   "execution_count": null,
   "metadata": {},
   "outputs": [],
   "source": [
    "# End session\n",
    "session.close()"
   ]
  }
 ],
 "metadata": {
  "colab": {
   "name": "ETL_Project_Final.ipynb",
   "provenance": []
  },
  "kernelspec": {
   "display_name": "Python 3",
   "language": "python",
   "name": "python3"
  },
  "language_info": {
   "codemirror_mode": {
    "name": "ipython",
    "version": 3
   },
   "file_extension": ".py",
   "mimetype": "text/x-python",
   "name": "python",
   "nbconvert_exporter": "python",
   "pygments_lexer": "ipython3",
   "version": "3.8.5"
  }
 },
 "nbformat": 4,
 "nbformat_minor": 1
}
